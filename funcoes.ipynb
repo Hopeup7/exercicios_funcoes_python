{
 "cells": [
  {
   "cell_type": "code",
   "execution_count": 1,
   "id": "d4490e43",
   "metadata": {},
   "outputs": [
    {
     "name": "stdout",
     "output_type": "stream",
     "text": [
      "7\n"
     ]
    }
   ],
   "source": [
    "def somar(a, b):\n",
    "    return a + b\n",
    "\n",
    "operacao = somar  # Atribuindo a função a uma variável\n",
    "print(operacao(3, 4))  # Chama a função com argumentos"
   ]
  },
  {
   "cell_type": "code",
   "execution_count": 2,
   "id": "f3b0c9d9",
   "metadata": {},
   "outputs": [
    {
     "name": "stdout",
     "output_type": "stream",
     "text": [
      "25\n"
     ]
    }
   ],
   "source": [
    "quadrado = lambda x: x * x\n",
    "print(quadrado(5))"
   ]
  },
  {
   "cell_type": "code",
   "execution_count": 3,
   "id": "d97bc8f9",
   "metadata": {},
   "outputs": [
    {
     "name": "stdout",
     "output_type": "stream",
     "text": [
      "Argumentos posicionais: (1, 2, 3)\n",
      "Argumentos nomeados: {'nome': 'Alice', 'idade': 30}\n"
     ]
    }
   ],
   "source": [
    "def imprimir_parametros(*args, **kwargs):\n",
    "    print(\"Argumentos posicionais:\", args)\n",
    "    print(\"Argumentos nomeados:\", kwargs)\n",
    "\n",
    "imprimir_parametros(1, 2, 3, nome=\"Alice\", idade=30)"
   ]
  },
  {
   "cell_type": "code",
   "execution_count": 6,
   "id": "5b1ebe2b",
   "metadata": {},
   "outputs": [],
   "source": [
    "contador = 0\n",
    "\n",
    "def incrementar():\n",
    "    global contador\n",
    "    contador += 1"
   ]
  },
  {
   "cell_type": "code",
   "execution_count": 7,
   "id": "91049724",
   "metadata": {},
   "outputs": [
    {
     "name": "stdout",
     "output_type": "stream",
     "text": [
      "Olá, Bob!\n"
     ]
    }
   ],
   "source": [
    "def saudacao_personalizada(saudacao):\n",
    "    def cumprimentar(nome):\n",
    "        return f\"{saudacao}, {nome}!\"\n",
    "    return cumprimentar\n",
    "\n",
    "ola = saudacao_personalizada(\"Olá\")\n",
    "print(ola(\"Bob\"))"
   ]
  },
  {
   "cell_type": "code",
   "execution_count": 8,
   "id": "e9dd171e",
   "metadata": {},
   "outputs": [
    {
     "name": "stdout",
     "output_type": "stream",
     "text": [
      "Antes da função\n",
      "Oi!\n",
      "Depois da função\n"
     ]
    }
   ],
   "source": [
    "def meu_decorator(func):\n",
    "    def wrapper(*args, **kwargs):\n",
    "        print(\"Antes da função\")\n",
    "        resultado = func(*args, **kwargs)\n",
    "        print(\"Depois da função\")\n",
    "        return resultado\n",
    "    return wrapper\n",
    "\n",
    "@meu_decorator\n",
    "def dizer_oi():\n",
    "    print(\"Oi!\")\n",
    "\n",
    "dizer_oi()"
   ]
  }
 ],
 "metadata": {
  "kernelspec": {
   "display_name": "Python 3",
   "language": "python",
   "name": "python3"
  },
  "language_info": {
   "codemirror_mode": {
    "name": "ipython",
    "version": 3
   },
   "file_extension": ".py",
   "mimetype": "text/x-python",
   "name": "python",
   "nbconvert_exporter": "python",
   "pygments_lexer": "ipython3",
   "version": "3.13.2"
  }
 },
 "nbformat": 4,
 "nbformat_minor": 5
}
