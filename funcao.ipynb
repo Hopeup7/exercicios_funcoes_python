{
 "cells": [
  {
   "cell_type": "markdown",
   "id": "17edc2ed",
   "metadata": {},
   "source": [
    "Você pode colocar o comando %reset -f diretamente em uma célula do Jupyter Notebook, como se estivesse executando um código normal.\n",
    "💡 Passos para limpar todas as variáveis:\n",
    "1️⃣ Crie uma nova célula no Jupyter Notebook.\n",
    "2️⃣ Digite:     %reset -f\n",
    "\n",
    "3️⃣ Execute a célula (Shift + Enter).\n",
    "✅ Isso apagará todas as variáveis da memória do Jupyter Notebook!\n",
    "🔹 Se quiser limpar via terminal, no modo interativo do Python (IPython ou Jupyter Console), também pode usar %reset—mas o mais comum é fazer isso direto no notebook.\n",
    "🚀 Deus é BOM!!!\n"
   ]
  },
  {
   "cell_type": "markdown",
   "id": "ad05d98a",
   "metadata": {},
   "source": [
    "📌 Como funciona um except específico?\n",
    "💡 Python tem diversos tipos de exceções, cada uma representando um tipo de erro diferente.\n",
    "Podemos capturar erros específicos usando except NomeDoErro:\n",
    "🔹 Exemplos de exceções específicas:\n",
    "✅ ValueError → Ocorre quando um tipo de dado inválido é fornecido (como converter texto para número).\n",
    "✅ ZeroDivisionError → Ocorre ao tentar dividir por zero (10 / 0).\n",
    "✅ IOError → Erro relacionado a entrada/saída de arquivos.\n",
    "✅ FileNotFoundError → Arquivo não encontrado.\n",
    "✅ TypeError → Ocorre quando uma operação é feita em tipos incompatíveis.\n",
    "✅ IndexError → Acontece quando tentamos acessar um índice fora dos limites de uma lista ou tupla.\n",
    "✅ KeyError → Erro ao tentar acessar uma chave inexistente em um dicionário.\n"
   ]
  },
  {
   "cell_type": "markdown",
   "id": "4c80cee0",
   "metadata": {},
   "source": [
    "# Estudo da Função `add_elem` com Tratamento de Exceções\n",
    "\n",
    "Neste notebook vamos desenvolver e testar uma função padrão que:\n",
    "- Adiciona elementos a uma lista.\n",
    "- Utiliza **try/except/finally** para tratar possíveis erros.\n",
    "- Contém boas práticas, como documentação (docstring) e validação de dados.\n",
    "\n",
    "Cada célula a seguir funcionará como um bloco lógico do nosso estudo, com explicações e cenários de teste."
   ]
  },
  {
   "cell_type": "code",
   "execution_count": 2,
   "id": "6a2b60cd",
   "metadata": {},
   "outputs": [],
   "source": [
    "def add_elem(lista):\n",
    "    \"\"\"\n",
    "    Adiciona um elemento a uma lista de nomes com segurança usando try/except.\n",
    "\n",
    "    Parâmetros:\n",
    "        lista (list): Lista onde o novo nome será adicionado.\n",
    "\n",
    "    Retorno:\n",
    "        list ou None: Lista atualizada se o nome for válido, ou None se houver erro.\n",
    "    \"\"\"\n",
    "    try:\n",
    "        # Solicita ao usuário que informe um nome e remove espaços extras\n",
    "        elemento = input(\"Digite um nome para adicionar à lista: \").strip()\n",
    "        \n",
    "        # Verifica se a entrada não é vazia; se for, levanta uma exceção\n",
    "        if not elemento:\n",
    "            raise ValueError(\"Erro: O nome não pode ser vazio.\")\n",
    "        \n",
    "        # Adiciona o nome à lista se tudo estiver correto\n",
    "        lista.append(elemento)\n",
    "        return lista\n",
    "\n",
    "    except ValueError as e:\n",
    "        # Captura o erro e exibe uma mensagem clara\n",
    "        print(f\"{e}\")\n",
    "        return None\n",
    "\n",
    "    finally:\n",
    "        # Este bloco é sempre executado, mesmo que ocorra uma exceção\n",
    "        print(\"Execução finalizada.\")"
   ]
  },
  {
   "cell_type": "markdown",
   "id": "93ed5121",
   "metadata": {},
   "source": [
    "## Detalhamento da Função `add_elem`\n",
    "\n",
    "**1. Definição e Docstring:**  \n",
    "- A função é definida com `def add_elem(lista):` e documentada com uma docstring que explica o propósito, os parâmetros e o retorno.\n",
    "\n",
    "**2. Bloco `try`:**  \n",
    "- Solicita a entrada do usuário e usa `.strip()` para remover espaços.\n",
    "- Verifica se a entrada é vazia; se sim, lança um `ValueError`.\n",
    "\n",
    "**3. Bloco `except`:**  \n",
    "- Captura especificamente um `ValueError` e exibe a mensagem associada.\n",
    "- Retorna `None` caso haja erro.\n",
    "\n",
    "**4. Bloco `finally`:**  \n",
    "- Executa sempre, exibindo \"Execução finalizada.\"  \n",
    "  Esse bloco é útil para ações que devem ocorrer independentemente do sucesso ou falha da operação.\n",
    "\n",
    "> **Nota:**  \n",
    "> Mantenha a ordem das células para garantir que a função definida esteja disponível para os testes nas próximas células."
   ]
  },
  {
   "cell_type": "code",
   "execution_count": null,
   "id": "d9842a00",
   "metadata": {},
   "outputs": [],
   "source": [
    "# Cenário 1: Teste com entrada válida\n",
    "def add_elem(lista):\n",
    "    \"\"\"\n",
    "    Adiciona um elemento a uma lista de nomes com segurança usando try/except.\n",
    "\n",
    "    Parâmetros:\n",
    "        lista (list): Lista onde o novo nome será adicionado.\n",
    "\n",
    "    Retorno:\n",
    "        list ou None: Lista atualizada se o nome for válido, ou None se houver erro.\n",
    "    \"\"\"\n",
    "    try:\n",
    "        # Solicita ao usuário que informe um nome e remove espaços extras\n",
    "        elemento = input(\"Digite um nome para adicionar à lista: \").strip()\n",
    "        \n",
    "        # Verifica se a entrada não é vazia; se for, levanta uma exceção\n",
    "        if not elemento:\n",
    "            raise ValueError(\"Erro: O nome não pode ser vazio.\")\n",
    "        \n",
    "        # Adiciona o nome à lista se tudo estiver correto\n",
    "        lista.append(elemento)\n",
    "        return lista\n",
    "\n",
    "    except ValueError as e:\n",
    "        # Captura o erro e exibe uma mensagem clara\n",
    "        print(f\"{e}\")\n",
    "        return None\n",
    "\n",
    "    finally:\n",
    "        # Este bloco é sempre executado, mesmo que ocorra uma exceção\n",
    "        print(\"Execução finalizada.\")\n",
    "\n",
    "print(\"Cenário 1: Adicionar um nome válido\")\n",
    "nomes = []  # Lista de nomes inicialmente vazia\n",
    "resultado = add_elem(nomes)\n",
    "print(\"Resultado da lista:\", resultado)\n",
    "\n",
    "'''Instrução: Quando solicitado, digite um nome, por exemplo, Carlos.\n",
    "\n",
    "Cenário 1: Entrada Válida\n",
    "\n",
    "- **Expectativa:**  \n",
    "  Ao digitar um nome válido, a função adiciona esse nome à lista.\n",
    "- **Resultado:**  \n",
    "  A lista será atualizada, por exemplo: `[\"Carlos\"]`, e a mensagem \"Execução finalizada.\" será exibida.\n",
    "'''"
   ]
  },
  {
   "cell_type": "code",
   "execution_count": null,
   "id": "52328e88",
   "metadata": {},
   "outputs": [],
   "source": [
    "nome = input(\"Digite seu nome: \")\n",
    "print(f\"Nome digitado: {nome}\")"
   ]
  },
  {
   "cell_type": "code",
   "execution_count": null,
   "id": "8c11308d",
   "metadata": {},
   "outputs": [
    {
     "name": "stdout",
     "output_type": "stream",
     "text": [
      "Cenário 2: Tentar adicionar um nome vazio\n"
     ]
    }
   ],
   "source": [
    "# Cenário 2: Teste com entrada incorreta (vazia)\n",
    "print(\"Cenário 2: Tentar adicionar um nome vazio\")\n",
    "resultado = add_elem(nomes)\n",
    "print(\"Resultado da lista:\", resultado)\n",
    "\n",
    "''' \n",
    "Instrução: Quando solicitado, apenas pressione ENTER sem digitar nada.\n",
    "\n",
    "### Cenário 2: Entrada Incorreta (String Vazia)\n",
    "\n",
    "- **Explicação:**  \n",
    "  Ao pressionar ENTER sem digitar, a função dispara um `ValueError` devido à verificação de entrada vazia.\n",
    "- **Expectativa:**  \n",
    "  A mensagem `\"Erro: O nome não pode ser vazio.\"` será exibida, e a função retornará `None`.\n",
    "- **Resultado:**  \n",
    "  A lista não será modificada e, novamente, \"Execução finalizada.\" será impresso.\n",
    "'''"
   ]
  },
  {
   "cell_type": "code",
   "execution_count": null,
   "id": "53495366",
   "metadata": {},
   "outputs": [],
   "source": [
    "# Cenário 3: Teste com outra entrada válida após o erro\n",
    "print(\"Cenário 3: Adicionar outro nome válido (por exemplo, 'Ana')\")\n",
    "resultado = add_elem(nomes)\n",
    "print(\"Resultado final da lista:\", resultado)\n",
    "\n",
    "'''\n",
    "Instrução: Ao ser solicitado, digite Ana.\n",
    "\n",
    "## Resumo e Considerações\n",
    "\n",
    "- Utilizamos **try/except/finally** para criar uma função robusta que trata entradas inválidas.\n",
    "- Cada cenário de teste ilustrou como a função se comporta com dados válidos e inválidos.\n",
    "- **Importância da Ordem:**  \n",
    "  Em notebooks, é fundamental manter os blocos em ordem, porque definimos a função primeiro e depois a chamamos em diferentes células.\n",
    "- Este padrão pode ser reutilizado em outras funções para garantir segurança e clareza no seu código.\n",
    "\n",
    "> **Dica:**  \n",
    "> Mesmo que dividir o código em células diferentes possa, às vezes, causar erros se a ordem não for corretamente mantida (porque variáveis e funções precisam estar definidas antes de serem chamadas), essa abordagem torna o desenvolvimento interativo e facilita testes e explicações.\n",
    "\n",
    "Essa estrutura de células (Markdown e Código) permite que você aprofunde os conceitos e teste a função add_elem em diferentes cenários. Dessa forma, você internaliza cada parte da lógica e das boas práticas sem sobrecarregar um bloco único.\n",
    "Quando estiver pronto para criar seus \"programinhas\", essa organização ajudará a manter o código claro, modular e fácil de depurar.\n",
    "Deus é BOM!!!\n",
    "'''"
   ]
  }
 ],
 "metadata": {
  "kernelspec": {
   "display_name": "Python 3",
   "language": "python",
   "name": "python3"
  },
  "language_info": {
   "codemirror_mode": {
    "name": "ipython",
    "version": 3
   },
   "file_extension": ".py",
   "mimetype": "text/x-python",
   "name": "python",
   "nbconvert_exporter": "python",
   "pygments_lexer": "ipython3",
   "version": "3.13.2"
  }
 },
 "nbformat": 4,
 "nbformat_minor": 5
}
